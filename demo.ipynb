{
 "cells": [
  {
   "cell_type": "code",
   "execution_count": 115,
   "metadata": {},
   "outputs": [],
   "source": [
    "from torchvision import datasets, transforms\n",
    "import torch.nn as nn\n",
    "import torch.nn.functional as F\n",
    "import torch.optim as optim\n",
    "import torch\n",
    "import matplotlib.pyplot as plt"
   ]
  },
  {
   "cell_type": "code",
   "execution_count": 116,
   "metadata": {},
   "outputs": [],
   "source": [
    "class Net(nn.Module):\n",
    "    \n",
    "    def __init__(self):\n",
    "        super(Net, self).__init__()\n",
    "        self.fc1 = nn.Linear(in_features=784, out_features=32)  # middle/hidden layer\n",
    "        self.fc2 = nn.Linear(in_features=32, out_features=10)  # output layer\n",
    "    \n",
    "    def forward(self, x):\n",
    "        x = x.squeeze(1)\n",
    "        x = x.flatten(1,2)\n",
    "        x = self.fc1(x)   \n",
    "        x = F.relu(x)\n",
    "        x = self.fc2(x)\n",
    "        x = F.log_softmax(x, dim=1)\n",
    "        return x"
   ]
  },
  {
   "cell_type": "code",
   "execution_count": 117,
   "metadata": {},
   "outputs": [
    {
     "data": {
      "text/plain": [
       "tensor([-2.1858, -2.2881, -2.3612, -2.2172, -2.5162, -1.9593, -2.3555, -2.4350,\n",
       "        -2.4592, -2.3725], grad_fn=<SelectBackward>)"
      ]
     },
     "execution_count": 117,
     "metadata": {},
     "output_type": "execute_result"
    }
   ],
   "source": [
    "model = Net()\n",
    "sample_input = torch.rand(50, 1, 28, 28)  # sample batch input\n",
    "sample_output = model(sample_input)\n",
    "sample_output[0]"
   ]
  },
  {
   "cell_type": "code",
   "execution_count": 118,
   "metadata": {},
   "outputs": [],
   "source": [
    "train_loader = torch.utils.data.DataLoader(\n",
    "    dataset=datasets.MNIST(root='./data', train=True, download=True,\n",
    "        transform=transforms.ToTensor()),\n",
    "    batch_size=50, shuffle=True\n",
    ")"
   ]
  },
  {
   "cell_type": "code",
   "execution_count": 137,
   "metadata": {},
   "outputs": [
    {
     "data": {
      "text/plain": [
       "<matplotlib.image.AxesImage at 0x28812cbcb48>"
      ]
     },
     "execution_count": 137,
     "metadata": {},
     "output_type": "execute_result"
    },
    {
     "data": {
      "image/png": "[encoded data removed]",
      "text/plain": [
       "<Figure size 432x288 with 1 Axes>"
      ]
     },
     "metadata": {
      "needs_background": "light"
     },
     "output_type": "display_data"
    }
   ],
   "source": [
    "sample = iter(train_loader).next()\n",
    "sample_label = sample[1][0]\n",
    "sample_image = sample[0][0]\n",
    "sample_image = sample_image.permute(1,2,0).squeeze(-1).numpy()\n",
    "plt.title(f'Label: {sample_label}')\n",
    "plt.imshow(sample_image, cmap='gray')"
   ]
  },
  {
   "cell_type": "code",
   "execution_count": 21,
   "metadata": {},
   "outputs": [],
   "source": [
    "criterion = nn.NLLLoss()\n",
    "optimizer = optim.SGD(params=model.parameters(), lr=0.01)"
   ]
  },
  {
   "cell_type": "code",
   "execution_count": 22,
   "metadata": {},
   "outputs": [
    {
     "name": "stdout",
     "output_type": "stream",
     "text": [
      "tensor(2.2807, grad_fn=<NllLossBackward>)\n",
      "tensor(2.2737, grad_fn=<NllLossBackward>)\n",
      "tensor(2.1842, grad_fn=<NllLossBackward>)\n",
      "tensor(2.2084, grad_fn=<NllLossBackward>)\n",
      "tensor(2.2271, grad_fn=<NllLossBackward>)\n",
      "tensor(2.3144, grad_fn=<NllLossBackward>)\n",
      "tensor(2.1276, grad_fn=<NllLossBackward>)\n",
      "tensor(2.0551, grad_fn=<NllLossBackward>)\n",
      "tensor(1.9450, grad_fn=<NllLossBackward>)\n",
      "tensor(2.0449, grad_fn=<NllLossBackward>)\n"
     ]
    }
   ],
   "source": [
    "def train(num_epochs=10):\n",
    "    for epoch in range(num_epochs):\n",
    "        for data, label in train_loader:\n",
    "            optimizer.zero_grad()\n",
    "            outputs = model(data)\n",
    "            loss = criterion(outputs, label)\n",
    "            loss.backward()\n",
    "            optimizer.step()\n",
    "        print(loss)\n",
    "train()"
   ]
  }
 ],
 "metadata": {
  "kernelspec": {
   "display_name": "Python 3",
   "language": "python",
   "name": "python3"
  },
  "language_info": {
   "codemirror_mode": {
    "name": "ipython",
    "version": 3
   },
   "file_extension": ".py",
   "mimetype": "text/x-python",
   "name": "python",
   "nbconvert_exporter": "python",
   "pygments_lexer": "ipython3",
   "version": "3.7.5"
  }
 },
 "nbformat": 4,
 "nbformat_minor": 4
}
